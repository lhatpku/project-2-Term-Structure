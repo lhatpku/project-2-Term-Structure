{
 "cells": [
  {
   "cell_type": "code",
   "execution_count": null,
   "metadata": {},
   "outputs": [],
   "source": [
    "%matplotlib inline\n",
    "import pandas as pd\n",
    "import bs4 as bs\n",
    "import urllib.request\n",
    "from datetime import datetime\n",
    "import sqlite3\n",
    "from finance_data_extract import get_long_historical_price"
   ]
  },
  {
   "cell_type": "code",
   "execution_count": null,
   "metadata": {
    "scrolled": true
   },
   "outputs": [],
   "source": [
    "df=get_long_historical_price(\"^GSPC\", datetime.strptime('Jan 1 1990', '%b %d %Y').date()\n",
    "                     , datetime.now().date()\n",
    "                     , frequency='1d',display=True)"
   ]
  },
  {
   "cell_type": "code",
   "execution_count": null,
   "metadata": {},
   "outputs": [],
   "source": [
    "df.to_csv('sp500.csv')"
   ]
  },
  {
   "cell_type": "code",
   "execution_count": null,
   "metadata": {},
   "outputs": [],
   "source": [
    "df = pd.read_csv('sp500.csv', sep=\",\",thousands=',')"
   ]
  },
  {
   "cell_type": "code",
   "execution_count": null,
   "metadata": {},
   "outputs": [],
   "source": [
    "df['Date']=pd.to_datetime(df['Date'])"
   ]
  },
  {
   "cell_type": "code",
   "execution_count": null,
   "metadata": {},
   "outputs": [],
   "source": [
    "df = df.set_index('Date')"
   ]
  },
  {
   "cell_type": "code",
   "execution_count": null,
   "metadata": {},
   "outputs": [],
   "source": [
    "df['6 month return']=df['Adj Close'].pct_change(periods=126).shift(-126)\n",
    "df['1 year return']=df['Adj Close'].pct_change(periods=251).shift(-251)\n",
    "df['3 year return']=df['Adj Close'].pct_change(periods=753).shift(-753)\n",
    "df['5 year return'] = df['Adj Close'].pct_change(periods=1255).shift(-1255)\n",
    "df['10 year return']=df['Adj Close'].pct_change(periods=1510).shift(-1510)\n",
    "df.head()"
   ]
  },
  {
   "cell_type": "code",
   "execution_count": null,
   "metadata": {},
   "outputs": [],
   "source": [
    "returns_df = df[['6 month return', '1 year return', '3 year return', '5 year return', '10 year return']]\n",
    "\n",
    "returns_df.head()"
   ]
  },
  {
   "cell_type": "code",
   "execution_count": null,
   "metadata": {},
   "outputs": [],
   "source": [
    "returns_df['6 month return']=returns_df['6 month return'].apply(lambda x: ((1+x)**(1/0.5)-1)*100)\n",
    "returns_df['1 year return']=returns_df['1 year return'].apply(lambda x: ((1+x)**(1/1)-1)*100)\n",
    "returns_df['3 year return']=returns_df['3 year return'].apply(lambda x: ((1+x)**(1/3)-1)*100)\n",
    "returns_df['5 year return']=returns_df['5 year return'].apply(lambda x: ((1+x)**(1/5)-1)*100)\n",
    "returns_df['10 year return']=returns_df['10 year return'].apply(lambda x: ((1+x)**(1/10)-1)*100)"
   ]
  },
  {
   "cell_type": "code",
   "execution_count": null,
   "metadata": {},
   "outputs": [],
   "source": [
    "conn = sqlite3.connect(\"treasury_yield.db\")\n",
    "ratedata = pd.read_sql('select * from treasury_yield', conn)"
   ]
  },
  {
   "cell_type": "code",
   "execution_count": null,
   "metadata": {},
   "outputs": [],
   "source": [
    "\n",
    "ratedata['10-2 spread']=ratedata['YR_10']-ratedata['YR_2']\n",
    "\n",
    "\n",
    "ratedata['Date']=pd.to_datetime(ratedata['Date'], format='%Y-%m-%d')\n",
    "\n",
    "ratedata.set_index('Date', inplace=True)\n",
    "\n",
    "ratedata"
   ]
  },
  {
   "cell_type": "code",
   "execution_count": null,
   "metadata": {},
   "outputs": [],
   "source": [
    "merge_df=pd.merge(ratedata, returns_df, left_index=True, right_index=True, how='outer')\n",
    "\n",
    "merge_df.head(2000)"
   ]
  },
  {
   "cell_type": "code",
   "execution_count": null,
   "metadata": {},
   "outputs": [],
   "source": [
    "plots_df=merge_df[['10-2 spread', '10 year return']]"
   ]
  },
  {
   "cell_type": "code",
   "execution_count": null,
   "metadata": {},
   "outputs": [],
   "source": [
    "plots_df.plot()"
   ]
  },
  {
   "cell_type": "code",
   "execution_count": null,
   "metadata": {},
   "outputs": [],
   "source": [
    "conn = sqlite3.connect('sp500_return.db')\n",
    "database_df.to_sql(name='rolling_returns', con=conn, if_exists='replace')\n",
    "conn.close()"
   ]
  }
 ],
 "metadata": {
  "kernelspec": {
   "display_name": "Python 3",
   "language": "python",
   "name": "python3"
  },
  "language_info": {
   "codemirror_mode": {
    "name": "ipython",
    "version": 3
   },
   "file_extension": ".py",
   "mimetype": "text/x-python",
   "name": "python",
   "nbconvert_exporter": "python",
   "pygments_lexer": "ipython3",
   "version": "3.7.0"
  }
 },
 "nbformat": 4,
 "nbformat_minor": 2
}
